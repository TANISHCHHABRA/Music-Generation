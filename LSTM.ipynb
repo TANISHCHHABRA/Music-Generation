{
  "nbformat": 4,
  "nbformat_minor": 0,
  "metadata": {
    "colab": {
      "name": "LSTM.ipynb",
      "provenance": []
    },
    "kernelspec": {
      "name": "python3",
      "display_name": "Python 3"
    },
    "language_info": {
      "name": "python"
    }
  },
  "cells": [
    {
      "cell_type": "code",
      "source": [
        "!pip install mitdeeplearning"
      ],
      "metadata": {
        "colab": {
          "base_uri": "https://localhost:8080/"
        },
        "id": "xB4SXtFVO6XS",
        "outputId": "f6536457-20d4-462f-daf2-2b1f7c18a1a0"
      },
      "execution_count": 49,
      "outputs": [
        {
          "output_type": "stream",
          "name": "stdout",
          "text": [
            "Requirement already satisfied: mitdeeplearning in /usr/local/lib/python3.7/dist-packages (0.2.0)\n",
            "Requirement already satisfied: tqdm in /usr/local/lib/python3.7/dist-packages (from mitdeeplearning) (4.64.0)\n",
            "Requirement already satisfied: regex in /usr/local/lib/python3.7/dist-packages (from mitdeeplearning) (2019.12.20)\n",
            "Requirement already satisfied: gym in /usr/local/lib/python3.7/dist-packages (from mitdeeplearning) (0.17.3)\n",
            "Requirement already satisfied: numpy in /usr/local/lib/python3.7/dist-packages (from mitdeeplearning) (1.21.6)\n",
            "Requirement already satisfied: pyglet<=1.5.0,>=1.4.0 in /usr/local/lib/python3.7/dist-packages (from gym->mitdeeplearning) (1.5.0)\n",
            "Requirement already satisfied: cloudpickle<1.7.0,>=1.2.0 in /usr/local/lib/python3.7/dist-packages (from gym->mitdeeplearning) (1.3.0)\n",
            "Requirement already satisfied: scipy in /usr/local/lib/python3.7/dist-packages (from gym->mitdeeplearning) (1.4.1)\n",
            "Requirement already satisfied: future in /usr/local/lib/python3.7/dist-packages (from pyglet<=1.5.0,>=1.4.0->gym->mitdeeplearning) (0.16.0)\n"
          ]
        }
      ]
    },
    {
      "cell_type": "code",
      "execution_count": 79,
      "metadata": {
        "id": "zcpzRTP8MxtG"
      },
      "outputs": [],
      "source": [
        "import tensorflow as tf\n",
        "import numpy as np\n",
        "import os\n",
        "import matplotlib.pyplot as plt\n",
        "import mitdeeplearning as mdl\n",
        "from IPython import display as ipythondisplay"
      ]
    },
    {
      "cell_type": "code",
      "source": [
        "songs = mdl.lab1.load_training_data()\n",
        "print(songs[0])"
      ],
      "metadata": {
        "colab": {
          "base_uri": "https://localhost:8080/"
        },
        "id": "TrkCBfwGO_nN",
        "outputId": "6967de3c-2701-46e0-94f7-fec065dac697"
      },
      "execution_count": 51,
      "outputs": [
        {
          "output_type": "stream",
          "name": "stdout",
          "text": [
            "Found 817 songs in text\n",
            "X:1\n",
            "T:Alexander's\n",
            "Z: id:dc-hornpipe-1\n",
            "M:C|\n",
            "L:1/8\n",
            "K:D Major\n",
            "(3ABc|dAFA DFAd|fdcd FAdf|gfge fefd|(3efe (3dcB A2 (3ABc|!\n",
            "dAFA DFAd|fdcd FAdf|gfge fefd|(3efe dc d2:|!\n",
            "AG|FAdA FAdA|GBdB GBdB|Acec Acec|dfaf gecA|!\n",
            "FAdA FAdA|GBdB GBdB|Aceg fefd|(3efe dc d2:|!\n"
          ]
        }
      ]
    },
    {
      "cell_type": "code",
      "source": [
        "total_songs = \"\\n\\n\".join(songs)\n",
        "vocab = set(total_songs)"
      ],
      "metadata": {
        "id": "xTmb4hWLPIz1"
      },
      "execution_count": 52,
      "outputs": []
    },
    {
      "cell_type": "code",
      "source": [
        "char2idx = {c:i for i,c in enumerate(vocab)}\n",
        "idx2char = list(vocab)"
      ],
      "metadata": {
        "id": "aitXtcwWSYoL"
      },
      "execution_count": 53,
      "outputs": []
    },
    {
      "cell_type": "code",
      "source": [
        "vectorized_songs = np.array([char2idx[c] for c in total_songs])"
      ],
      "metadata": {
        "id": "9zTYaizaT269"
      },
      "execution_count": 54,
      "outputs": []
    },
    {
      "cell_type": "code",
      "source": [
        "total_songs[:10],vectorized_songs[:10]"
      ],
      "metadata": {
        "colab": {
          "base_uri": "https://localhost:8080/"
        },
        "id": "zchssggrUGb_",
        "outputId": "02bcd41f-57d7-4398-fdde-b40f7fe08809"
      },
      "execution_count": 55,
      "outputs": [
        {
          "output_type": "execute_result",
          "data": {
            "text/plain": [
              "('X:1\\nT:Alex', array([49,  9, 70, 26, 27,  9, 33,  5, 39, 16]))"
            ]
          },
          "metadata": {},
          "execution_count": 55
        }
      ]
    },
    {
      "cell_type": "code",
      "source": [
        "def batch(songs,seq_length,batch_size):\n",
        "  n = songs.shape[0]-1\n",
        "  idx = np.random.choice(n-seq_length,batch_size)\n",
        "  \n",
        "  input = [songs[i:i+seq_length] for i in idx]\n",
        "  output = [songs[i+1:i+seq_length+1] for i in idx]\n",
        "\n",
        "  input = np.reshape(input, [batch_size,seq_length])\n",
        "  output = np.reshape(output, [batch_size,seq_length])\n",
        "\n",
        "  return input,output\n",
        "\n",
        "batch(vectorized_songs,10,2)"
      ],
      "metadata": {
        "colab": {
          "base_uri": "https://localhost:8080/"
        },
        "id": "-5Z4o3B5VrXV",
        "outputId": "807fdb6d-bada-4da7-f5be-e420b80938a3"
      },
      "execution_count": 56,
      "outputs": [
        {
          "output_type": "execute_result",
          "data": {
            "text/plain": [
              "(array([[26, 62, 39, 35, 56, 55, 35, 39, 48, 62],\n",
              "        [48,  8, 14, 62,  8, 56, 10,  8, 10, 41]]),\n",
              " array([[62, 39, 35, 56, 55, 35, 39, 48, 62, 39],\n",
              "        [ 8, 14, 62,  8, 56, 10,  8, 10, 41, 48]]))"
            ]
          },
          "metadata": {},
          "execution_count": 56
        }
      ]
    },
    {
      "cell_type": "code",
      "source": [
        "def build_model(vocab_size,embedding_dim,rnn_units,batch_size):\n",
        "  model = tf.keras.Sequential([\n",
        "            tf.keras.layers.Embedding(vocab_size,embedding_dim,batch_input_shape=[batch_size,None]),\n",
        "\n",
        "            tf.keras.layers.LSTM(rnn_units,return_sequences=True, recurrent_initializer='glorot_uniform', recurrent_activation='sigmoid', stateful=True),\n",
        "\n",
        "            tf.keras.layers.Dense(vocab_size)                   \n",
        "  ])\n",
        "\n",
        "  return model\n",
        "\n",
        "model = build_model(len(vocab),256,1024,32)"
      ],
      "metadata": {
        "id": "FQbmyD7qhT6w"
      },
      "execution_count": 57,
      "outputs": []
    },
    {
      "cell_type": "code",
      "source": [
        "x,y = batch(vectorized_songs,50,32)\n",
        "x.shape,model(x).shape"
      ],
      "metadata": {
        "colab": {
          "base_uri": "https://localhost:8080/"
        },
        "id": "wnBFX7jt06eg",
        "outputId": "9f85712b-0daf-4a60-c343-b71e34472e89"
      },
      "execution_count": 58,
      "outputs": [
        {
          "output_type": "execute_result",
          "data": {
            "text/plain": [
              "((32, 50), TensorShape([32, 50, 83]))"
            ]
          },
          "metadata": {},
          "execution_count": 58
        }
      ]
    },
    {
      "cell_type": "code",
      "source": [
        "num_iterations = 1000\n",
        "batch_size = 32 \n",
        "seq_length = 100\n",
        "learning_rate = 5e-3\n",
        "\n",
        "vocab_size = len(vocab)\n",
        "embedding_dim = 256\n",
        "rnn_units = 1024\n",
        "checkpoint_dir = './training_checkpoints'\n",
        "checkpoint_prefix = os.path.join(checkpoint_dir, \"my_ckpt\")"
      ],
      "metadata": {
        "id": "I30YGhlchDAZ"
      },
      "execution_count": 59,
      "outputs": []
    },
    {
      "cell_type": "code",
      "source": [
        "model = build_model(vocab_size,embedding_dim,rnn_units,batch_size)\n",
        "\n",
        "def train(x,y):\n",
        "  with tf.GradientTape() as tape:\n",
        "    y_pred = model(x)\n",
        "\n",
        "    loss = tf.keras.losses.sparse_categorical_crossentropy(y, y_pred, from_logits=True)\n",
        "\n",
        "  grads = tape.gradient(loss,model.trainable_variables)\n",
        "\n",
        "  tf.keras.optimizers.Adam(learning_rate).apply_gradients(zip(grads,model.trainable_variables))\n",
        "\n",
        "  return loss"
      ],
      "metadata": {
        "id": "MW6j4hL1hwnF"
      },
      "execution_count": 60,
      "outputs": []
    },
    {
      "cell_type": "code",
      "source": [
        "history = []\n",
        "for iter in range(num_iterations):\n",
        "  x_batch,y_batch = batch(vectorized_songs,seq_length,batch_size)\n",
        "  loss = train(x_batch,y_batch)\n",
        "\n",
        "  history.append(loss.numpy().mean())  \n",
        "  if iter%100 == 0:\n",
        "    print(iter)\n",
        "    model.save_weights(checkpoint_prefix)\n",
        "    \n",
        "plt.plot(history)"
      ],
      "metadata": {
        "id": "CcJFTQRKizhd",
        "colab": {
          "base_uri": "https://localhost:8080/",
          "height": 456
        },
        "outputId": "27bec519-bc25-4057-93a1-e86a3170baec"
      },
      "execution_count": 61,
      "outputs": [
        {
          "output_type": "stream",
          "name": "stdout",
          "text": [
            "0\n",
            "100\n",
            "200\n",
            "300\n",
            "400\n",
            "500\n",
            "600\n",
            "700\n",
            "800\n",
            "900\n"
          ]
        },
        {
          "output_type": "execute_result",
          "data": {
            "text/plain": [
              "[<matplotlib.lines.Line2D at 0x7f6639dfd490>]"
            ]
          },
          "metadata": {},
          "execution_count": 61
        },
        {
          "output_type": "display_data",
          "data": {
            "text/plain": [
              "<Figure size 432x288 with 1 Axes>"
            ],
            "image/png": "[encoded data removed]"
          },
          "metadata": {
            "needs_background": "light"
          }
        }
      ]
    },
    {
      "cell_type": "code",
      "source": [
        "model.save_weights(checkpoint_prefix)\n",
        "plt.plot(history)"
      ],
      "metadata": {
        "colab": {
          "base_uri": "https://localhost:8080/",
          "height": 282
        },
        "id": "DWT-8uo8izfP",
        "outputId": "013eb66f-f580-45d3-da74-9cd029d1458b"
      },
      "execution_count": 62,
      "outputs": [
        {
          "output_type": "execute_result",
          "data": {
            "text/plain": [
              "[<matplotlib.lines.Line2D at 0x7f6639d1db10>]"
            ]
          },
          "metadata": {},
          "execution_count": 62
        },
        {
          "output_type": "display_data",
          "data": {
            "text/plain": [
              "<Figure size 432x288 with 1 Axes>"
            ],
            "image/png": "[encoded data removed]"
          },
          "metadata": {
            "needs_background": "light"
          }
        }
      ]
    },
    {
      "cell_type": "code",
      "source": [
        "model = build_model(vocab_size, embedding_dim, rnn_units, batch_size=1)\n",
        "model.load_weights(tf.train.latest_checkpoint(checkpoint_dir))\n",
        "model.build(tf.TensorShape([1, None]))"
      ],
      "metadata": {
        "id": "3QUK9DW-zvSX"
      },
      "execution_count": 68,
      "outputs": []
    },
    {
      "cell_type": "code",
      "source": [
        "def generate_text(model, start_string, generation_length):\n",
        "  input = [char2idx[s] for s in start_string]\n",
        "  input = tf.expand_dims(input,0)\n",
        "\n",
        "  text_generated = []\n",
        "  for i in range(generation_length):\n",
        "    predict = model(input)\n",
        "    predict = tf.squeeze(predict,0)\n",
        "\n",
        "    predicted_id = tf.random.categorical(predict, num_samples=1)[-1,0].numpy()\n",
        "\n",
        "    input = tf.expand_dims([predicted_id],0)\n",
        "    text_generated.append(idx2char[predicted_id])\n",
        "\n",
        "  return (start_string+''.join(text_generated))"
      ],
      "metadata": {
        "id": "VAk1r0BrkKy6"
      },
      "execution_count": 69,
      "outputs": []
    },
    {
      "cell_type": "code",
      "source": [
        "generated_text = generate_text(model, start_string='X', generation_length=1000)"
      ],
      "metadata": {
        "id": "aqIwmSdVtpoS"
      },
      "execution_count": 73,
      "outputs": []
    },
    {
      "cell_type": "code",
      "source": [
        "generated_text"
      ],
      "metadata": {
        "id": "sY32nsFzEMTo",
        "colab": {
          "base_uri": "https://localhost:8080/",
          "height": 122
        },
        "outputId": "65d3f5c2-11b9-4c0a-b138-ff25c560cd5d"
      },
      "execution_count": 74,
      "outputs": [
        {
          "output_type": "execute_result",
          "data": {
            "text/plain": [
              "\"X:22GE DEF|GAB dge|dBG GAB|AGE G2E|!\\nded cAF|GAG FDB|DGF EFGE|FGAF GABc|!\\ndDD2 EDB,|DEF GFG|AdB AFD|!\\nEFE GFE|B,EE G2A|BdB B2A|GEE E2:|!\\nA|Bee efg|fdf edA|Bee efg|fdf e2f|!\\ngfe dcB|ABG FED|gfe fed|cAF G2:|!\\nB|AFA ABc|dAF D2A|d2:|!\\nA|def a3|baf afe|def afe|def afe|dAe fdf|g3 efg a2b|a2f efe|d2B Bcd:|!\\ncBc dce|dBG GAB|udB GBd|gfg aga|bgf e2f|!\\ngfg a2b|a2b age|dBd ged|edB e2e|!\\nedB G2B|ABB Bde|dBG G2B|!\\ncAA eAA|cBA edc|BGG GAB|!\\ncBc dcd|edc Bcd|ecA GED|EAA A2:|!\\nB|c2e d3|B2c d3|B2d def g3|d2B cBA|!\\nG2g gfg|fdf agf|g2c c2e|d=cA GcA|B2G AGE|GED D2d|BAG FGE|D3 D2G|!\\nc2d e2d|cBc A2G|E2G GAB cde|d3 vellowast Des\\nZ: id:dc-reel-204\\nM:C\\nL:1/8\\nK:D Major\\ndB|ADFD ADFD|ADBD cAFA|dcdB AFEA|BAGF DF/A/|!\\n[1 fe|dgg2 bgg2|dggf g2fe|d=fed ^cdef|!\\ngfgd bdBG|cefe dcBA|G2FA GBcd|ecAG EFGE|!\\nG3B AGFD|GBdB cAGE|DEFG AFFD|EFGE D2dB|A2BG dGBG|DECE D3:|!\\nA|d3f a2fa|g2af gfef|d2de fefe|aD:|!\\n\\nX:24\\nT:'s MiFlyton's|\\n\\nX:f2ef|g3e dedB|c2Bc ABcA|!\\ndAA2 dAFA|dBcA dcde|fcc2 dBcA|!\\ndgfb afdf|bged cAA2|egg2 a2ga|bgaf geed|!\\n\""
            ],
            "application/vnd.google.colaboratory.intrinsic+json": {
              "type": "string"
            }
          },
          "metadata": {},
          "execution_count": 74
        }
      ]
    },
    {
      "cell_type": "code",
      "source": [
        "generated_song = mdl.lab1.extract_song_snippet(generated_text)\n",
        "\n",
        "for i,song in enumerate(generated_song):\n",
        "  waveform = mdl.lab1.play_song(song)\n",
        "  ipythondisplay.display(generated_song)\n",
        "  \n",
        "  if waveform:\n",
        "    print(\"Generated Song:\",i)\n",
        "    ipythondisplay.display(waveform)\n",
        "  "
      ],
      "metadata": {
        "id": "x1wO9ULAE1iN",
        "colab": {
          "base_uri": "https://localhost:8080/",
          "height": 124
        },
        "outputId": "5332d8b1-e2f3-49be-e397-67045cc8226d"
      },
      "execution_count": 83,
      "outputs": [
        {
          "output_type": "stream",
          "name": "stdout",
          "text": [
            "Found 2 songs in text\n"
          ]
        },
        {
          "output_type": "display_data",
          "data": {
            "text/plain": [
              "['X:22GE DEF|GAB dge|dBG GAB|AGE G2E|!\\nded cAF|GAG FDB|DGF EFGE|FGAF GABc|!\\ndDD2 EDB,|DEF GFG|AdB AFD|!\\nEFE GFE|B,EE G2A|BdB B2A|GEE E2:|!\\nA|Bee efg|fdf edA|Bee efg|fdf e2f|!\\ngfe dcB|ABG FED|gfe fed|cAF G2:|!\\nB|AFA ABc|dAF D2A|d2:|!\\nA|def a3|baf afe|def afe|def afe|dAe fdf|g3 efg a2b|a2f efe|d2B Bcd:|!\\ncBc dce|dBG GAB|udB GBd|gfg aga|bgf e2f|!\\ngfg a2b|a2b age|dBd ged|edB e2e|!\\nedB G2B|ABB Bde|dBG G2B|!\\ncAA eAA|cBA edc|BGG GAB|!\\ncBc dcd|edc Bcd|ecA GED|EAA A2:|!\\nB|c2e d3|B2c d3|B2d def g3|d2B cBA|!\\nG2g gfg|fdf agf|g2c c2e|d=cA GcA|B2G AGE|GED D2d|BAG FGE|D3 D2G|!\\nc2d e2d|cBc A2G|E2G GAB cde|d3 vellowast Des\\nZ: id:dc-reel-204\\nM:C\\nL:1/8\\nK:D Major\\ndB|ADFD ADFD|ADBD cAFA|dcdB AFEA|BAGF DF/A/|!\\n[1 fe|dgg2 bgg2|dggf g2fe|d=fed ^cdef|!\\ngfgd bdBG|cefe dcBA|G2FA GBcd|ecAG EFGE|!\\nG3B AGFD|GBdB cAGE|DEFG AFFD|EFGE D2dB|A2BG dGBG|DECE D3:|!\\nA|d3f a2fa|g2af gfef|d2de fefe|aD:|!',\n",
              " \"X:24\\nT:'s MiFlyton's|\"]"
            ]
          },
          "metadata": {}
        },
        {
          "output_type": "display_data",
          "data": {
            "text/plain": [
              "['X:22GE DEF|GAB dge|dBG GAB|AGE G2E|!\\nded cAF|GAG FDB|DGF EFGE|FGAF GABc|!\\ndDD2 EDB,|DEF GFG|AdB AFD|!\\nEFE GFE|B,EE G2A|BdB B2A|GEE E2:|!\\nA|Bee efg|fdf edA|Bee efg|fdf e2f|!\\ngfe dcB|ABG FED|gfe fed|cAF G2:|!\\nB|AFA ABc|dAF D2A|d2:|!\\nA|def a3|baf afe|def afe|def afe|dAe fdf|g3 efg a2b|a2f efe|d2B Bcd:|!\\ncBc dce|dBG GAB|udB GBd|gfg aga|bgf e2f|!\\ngfg a2b|a2b age|dBd ged|edB e2e|!\\nedB G2B|ABB Bde|dBG G2B|!\\ncAA eAA|cBA edc|BGG GAB|!\\ncBc dcd|edc Bcd|ecA GED|EAA A2:|!\\nB|c2e d3|B2c d3|B2d def g3|d2B cBA|!\\nG2g gfg|fdf agf|g2c c2e|d=cA GcA|B2G AGE|GED D2d|BAG FGE|D3 D2G|!\\nc2d e2d|cBc A2G|E2G GAB cde|d3 vellowast Des\\nZ: id:dc-reel-204\\nM:C\\nL:1/8\\nK:D Major\\ndB|ADFD ADFD|ADBD cAFA|dcdB AFEA|BAGF DF/A/|!\\n[1 fe|dgg2 bgg2|dggf g2fe|d=fed ^cdef|!\\ngfgd bdBG|cefe dcBA|G2FA GBcd|ecAG EFGE|!\\nG3B AGFD|GBdB cAGE|DEFG AFFD|EFGE D2dB|A2BG dGBG|DECE D3:|!\\nA|d3f a2fa|g2af gfef|d2de fefe|aD:|!',\n",
              " \"X:24\\nT:'s MiFlyton's|\"]"
            ]
          },
          "metadata": {}
        }
      ]
    },
    {
      "cell_type": "code",
      "source": [
        ""
      ],
      "metadata": {
        "id": "Ih3V7vE57Eip"
      },
      "execution_count": null,
      "outputs": []
    }
  ]
}